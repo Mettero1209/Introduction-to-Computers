{
  "nbformat": 4,
  "nbformat_minor": 0,
  "metadata": {
    "colab": {
      "provenance": [],
      "authorship_tag": "ABX9TyMxdrS5+FHq8TLYcxK3j9Bz",
      "include_colab_link": true
    },
    "kernelspec": {
      "name": "python3",
      "display_name": "Python 3"
    },
    "language_info": {
      "name": "python"
    }
  },
  "cells": [
    {
      "cell_type": "markdown",
      "metadata": {
        "id": "view-in-github",
        "colab_type": "text"
      },
      "source": [
        "<a href=\"https://colab.research.google.com/github/Mettero1209/Introduction-to-Computers/blob/main/0517.ipynb\" target=\"_parent\"><img src=\"https://colab.research.google.com/assets/colab-badge.svg\" alt=\"Open In Colab\"/></a>"
      ]
    },
    {
      "cell_type": "code",
      "source": [
        "score = int(input(\"score:\"))\n",
        "if score >= 90:\n",
        "   print(\"Grade is: A'\")\n",
        "elif score >= 80:\n",
        "   print(\"Grade is: B'\")\n",
        "elif score >= 70:\n",
        "   print(\"Grade is: C'\")\n",
        "elif score >= 60:\n",
        "   print(\"Grade is: D'\")\n"
      ],
      "metadata": {
        "colab": {
          "base_uri": "https://localhost:8080/"
        },
        "id": "Iqp5lDCBzIsf",
        "outputId": "e980bfb0-d50c-4d25-baf9-db688b1a8725"
      },
      "execution_count": null,
      "outputs": [
        {
          "output_type": "stream",
          "name": "stdout",
          "text": [
            "score:60\n",
            "Grade is: D'\n"
          ]
        }
      ]
    },
    {
      "cell_type": "code",
      "execution_count": 19,
      "metadata": {
        "id": "2ZvTebGoxyrk",
        "colab": {
          "base_uri": "https://localhost:8080/"
        },
        "outputId": "0b850199-a676-41b0-c967-c3f929b51d9e"
      },
      "outputs": [
        {
          "output_type": "stream",
          "name": "stdout",
          "text": [
            "今天會下雨嗎？M\n",
            "請重新輸入\n"
          ]
        }
      ],
      "source": [
        "rain=input(\"今天會下雨嗎？\")\n",
        "if rain== \"Y\" or rain==\"y\":\n",
        "  print(\"不用帶傘\")\n",
        "else:\n",
        "  print(\"請重新輸入\")"
      ]
    },
    {
      "cell_type": "code",
      "source": [
        "month =(int(input(\"請輸入月份：\")))\n",
        "if month >=1 and month <=3:\n",
        "  print(\"春天\")\n",
        "elif month >=4 and month <=6:\n",
        "  print(\"夏天\")\n",
        "elif month >=7 and month <=9:\n",
        "  print(\"秋天\")\n",
        "elif month >=10 and month <=12:\n",
        "  print(\"冬天\")\n",
        "else:\n",
        "  print(\"無效月份\") "
      ],
      "metadata": {
        "colab": {
          "base_uri": "https://localhost:8080/"
        },
        "id": "vo9AkuCs0T5E",
        "outputId": "0a60f252-2ce5-45c6-a6cf-146e69b1d1bf"
      },
      "execution_count": null,
      "outputs": [
        {
          "output_type": "stream",
          "name": "stdout",
          "text": [
            "請輸入月份：12\n",
            "冬天\n"
          ]
        }
      ]
    },
    {
      "cell_type": "code",
      "source": [
        "temperature= int(input(\"請輸入溫度：\"))\n",
        "if temperature >= 37.5:\n",
        "  print(\"體溫過高！\")\n",
        "elif temperature >=37 and temperature <=37.4:\n",
        "  print(\"體溫略高！\")\n",
        "elif temperature >=34 and temperature <=36.9:\n",
        "  print(\"體溫正常！\")\n",
        "elif temperature <34:\n",
        "  print(\"體溫異常,請重新測量！\")\n",
        "else:\n",
        "  print(\"異常\")\n"
      ],
      "metadata": {
        "colab": {
          "base_uri": "https://localhost:8080/"
        },
        "id": "YfVnYHWx2eoh",
        "outputId": "a35b46f1-5b75-432b-c663-7a135f2298dd"
      },
      "execution_count": null,
      "outputs": [
        {
          "output_type": "stream",
          "name": "stdout",
          "text": [
            "請輸入溫度：34\n",
            "體溫正常！\n"
          ]
        }
      ]
    },
    {
      "cell_type": "code",
      "source": [
        "score = int(input(\"score: \"))\n",
        "if score >= 90:\n",
        "  print('Grade is: A')\n",
        "elif score >= 80:\n",
        "  print('Grade is: B')\n",
        "elif score >= 70:\n",
        "  print('Grade is: C')\n",
        "elif score >= 60:\n",
        "  print('Grade is: D')\n",
        "else:\n",
        "  print('Grade is: F')"
      ],
      "metadata": {
        "id": "bllmdOq94APG",
        "colab": {
          "base_uri": "https://localhost:8080/"
        },
        "outputId": "ac6b1ac1-5c2e-4d57-bf93-5b45a9d6d1d9"
      },
      "execution_count": null,
      "outputs": [
        {
          "output_type": "stream",
          "name": "stdout",
          "text": [
            "score: 40\n",
            "Grade is: F\n"
          ]
        }
      ]
    },
    {
      "cell_type": "code",
      "source": [
        "tax= int(input(\"請輸入今年收入淨額：\"))\n",
        "if tax >=20000000:\n",
        "  print(\"付稅金額：\" ,0.3*tax,\"元\" ) \n",
        "elif tax >=1000000:\n",
        "  print(\"付稅金額：\",0.21*tax,\"元\" )\n",
        "elif tax >=600000:\n",
        "  print(\"付稅金額：\",0.13*tax,\"元\" )\n",
        "elif tax >=300000:\n",
        "  print(\"付稅金額：\",0.06*tax,\"元\" )  \n",
        "  "
      ],
      "metadata": {
        "id": "uT-H4mnt5LJG",
        "colab": {
          "base_uri": "https://localhost:8080/"
        },
        "outputId": "1b1bd1ea-37b1-48d4-e26e-a399c65e2363"
      },
      "execution_count": 36,
      "outputs": [
        {
          "output_type": "stream",
          "name": "stdout",
          "text": [
            "請輸入今年收入淨額：20000000\n",
            "付稅金額： 6000000.0 元\n"
          ]
        }
      ]
    },
    {
      "cell_type": "code",
      "source": [],
      "metadata": {
        "id": "gCy8-Xrk8FDk"
      },
      "execution_count": null,
      "outputs": []
    }
  ]
}